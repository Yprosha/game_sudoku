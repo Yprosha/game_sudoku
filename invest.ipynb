{
  "nbformat": 4,
  "nbformat_minor": 0,
  "metadata": {
    "colab": {
      "name": "Untitled1.ipynb",
      "provenance": []
    },
    "kernelspec": {
      "display_name": "Python 3",
      "name": "python3"
    }
  },
  "cells": [
    {
      "cell_type": "code",
      "metadata": {
        "id": "Vr0B4xzj9IXH"
      },
      "source": [
        "import pandas as pd #первый пункт задачи"
      ],
      "execution_count": 21,
      "outputs": []
    },
    {
      "cell_type": "code",
      "metadata": {
        "colab": {
          "base_uri": "https://localhost:8080/",
          "height": 195
        },
        "id": "Wza9yM-P9v3U",
        "outputId": "3da57f2b-f41f-481f-c514-8b441bf0101d"
      },
      "source": [
        "df_1 = pd.read_csv('YNDX_160101_161231 (1).csv')\r\n",
        "df_1.head(5) # загрузка данных"
      ],
      "execution_count": 22,
      "outputs": [
        {
          "output_type": "execute_result",
          "data": {
            "text/html": [
              "<div>\n",
              "<style scoped>\n",
              "    .dataframe tbody tr th:only-of-type {\n",
              "        vertical-align: middle;\n",
              "    }\n",
              "\n",
              "    .dataframe tbody tr th {\n",
              "        vertical-align: top;\n",
              "    }\n",
              "\n",
              "    .dataframe thead th {\n",
              "        text-align: right;\n",
              "    }\n",
              "</style>\n",
              "<table border=\"1\" class=\"dataframe\">\n",
              "  <thead>\n",
              "    <tr style=\"text-align: right;\">\n",
              "      <th></th>\n",
              "      <th>&lt;DATE&gt;</th>\n",
              "      <th>&lt;TIME&gt;</th>\n",
              "      <th>&lt;OPEN&gt;</th>\n",
              "      <th>&lt;HIGH&gt;</th>\n",
              "      <th>&lt;LOW&gt;</th>\n",
              "      <th>&lt;CLOSE&gt;</th>\n",
              "      <th>&lt;VOL&gt;</th>\n",
              "    </tr>\n",
              "  </thead>\n",
              "  <tbody>\n",
              "    <tr>\n",
              "      <th>0</th>\n",
              "      <td>20160104</td>\n",
              "      <td>100100</td>\n",
              "      <td>1148.9</td>\n",
              "      <td>1148.9</td>\n",
              "      <td>1148.9</td>\n",
              "      <td>1148.9</td>\n",
              "      <td>0</td>\n",
              "    </tr>\n",
              "    <tr>\n",
              "      <th>1</th>\n",
              "      <td>20160104</td>\n",
              "      <td>100200</td>\n",
              "      <td>1148.9</td>\n",
              "      <td>1148.9</td>\n",
              "      <td>1148.9</td>\n",
              "      <td>1148.9</td>\n",
              "      <td>50</td>\n",
              "    </tr>\n",
              "    <tr>\n",
              "      <th>2</th>\n",
              "      <td>20160104</td>\n",
              "      <td>100300</td>\n",
              "      <td>1149.0</td>\n",
              "      <td>1149.0</td>\n",
              "      <td>1149.0</td>\n",
              "      <td>1149.0</td>\n",
              "      <td>33</td>\n",
              "    </tr>\n",
              "    <tr>\n",
              "      <th>3</th>\n",
              "      <td>20160104</td>\n",
              "      <td>100400</td>\n",
              "      <td>1149.0</td>\n",
              "      <td>1149.0</td>\n",
              "      <td>1149.0</td>\n",
              "      <td>1149.0</td>\n",
              "      <td>4</td>\n",
              "    </tr>\n",
              "    <tr>\n",
              "      <th>4</th>\n",
              "      <td>20160104</td>\n",
              "      <td>100500</td>\n",
              "      <td>1153.0</td>\n",
              "      <td>1153.0</td>\n",
              "      <td>1153.0</td>\n",
              "      <td>1153.0</td>\n",
              "      <td>0</td>\n",
              "    </tr>\n",
              "  </tbody>\n",
              "</table>\n",
              "</div>"
            ],
            "text/plain": [
              "     <DATE>  <TIME>  <OPEN>  <HIGH>   <LOW>  <CLOSE>  <VOL>\n",
              "0  20160104  100100  1148.9  1148.9  1148.9   1148.9      0\n",
              "1  20160104  100200  1148.9  1148.9  1148.9   1148.9     50\n",
              "2  20160104  100300  1149.0  1149.0  1149.0   1149.0     33\n",
              "3  20160104  100400  1149.0  1149.0  1149.0   1149.0      4\n",
              "4  20160104  100500  1153.0  1153.0  1153.0   1153.0      0"
            ]
          },
          "metadata": {
            "tags": []
          },
          "execution_count": 22
        }
      ]
    },
    {
      "cell_type": "code",
      "metadata": {
        "id": "9W-WwmS5MG8t"
      },
      "source": [
        "def mac(ind, df_1, max):\r\n",
        "  # функция которая находит день с максимальной ценой акции на промежутке времени\r\n",
        "  # и находит самую выгодную дату покупки акций для продажи в этот день\r\n",
        "  if ind < len(df_1) - 1:\r\n",
        "    ind_n = df_1[ind + 1:]['<HIGH>'].idxmax()\r\n",
        "    for i in range(ind + 1, ind_n):\r\n",
        "      if df_1.loc[i, '<VOL>'] > 0:\r\n",
        "        if df_1.loc[ind_n, '<HIGH>'] * df_1.loc[i, '<VOL>'] - df_1.loc[i, '<LOW>'] * df_1.loc[i, '<VOL>'] > max:\r\n",
        "          max = df_1.loc[ind_n, '<HIGH>'] * df_1.loc[i, '<VOL>'] - df_1.loc[i, '<LOW>'] * df_1.loc[i, '<VOL>']\r\n",
        "          return (df_1.loc[i, '<DATE>'], df_1.loc[ind_n, '<DATE>'], df_1.loc[i, '<VOL>'], max, ind_n)\r\n",
        "  else:\r\n",
        "    return False"
      ],
      "execution_count": 23,
      "outputs": []
    },
    {
      "cell_type": "code",
      "metadata": {
        "colab": {
          "base_uri": "https://localhost:8080/"
        },
        "id": "dSzLB0FGPX5R",
        "outputId": "f33e42ad-0a15-4572-be9a-aa1cf34b9c3a"
      },
      "source": [
        "ind = -1\r\n",
        "max = 0\r\n",
        "res = mac(ind, df_1, max)\r\n",
        "while bool(res):  #цикл который рассматривает все случаи выгодных покупок акций\r\n",
        "  res_t = mac(ind, df_1, max)\r\n",
        "  max = res[3]\r\n",
        "  ind = res[4]\r\n",
        "  res = mac(ind, df_1, max)\r\n",
        "print('Дата покупки: ',res_t[0])\r\n",
        "print('Количество акций для покупки: ',res_t[2])\r\n",
        "print('Дата продажи: ',res_t[1])\r\n",
        "print('Заработок: ',res_t[3])"
      ],
      "execution_count": 24,
      "outputs": [
        {
          "output_type": "stream",
          "text": [
            "Дата покупки:  20160104\n",
            "Количество акций для покупки:  50\n",
            "Дата продажи:  20160728\n",
            "Заработок:  19704.999999999993\n"
          ],
          "name": "stdout"
        }
      ]
    }
  ]
}